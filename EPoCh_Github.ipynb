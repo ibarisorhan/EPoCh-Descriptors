{
 "cells": [
  {
   "cell_type": "code",
   "execution_count": null,
   "id": "3e780a64",
   "metadata": {},
   "outputs": [],
   "source": [
    "from os import listdir\n",
    "import numpy as np\n",
    "import pandas as pd"
   ]
  },
  {
   "cell_type": "code",
   "execution_count": null,
   "id": "b6429ae9",
   "metadata": {},
   "outputs": [],
   "source": [
    "#-----SETTINGS-----\n",
    "\n",
    "directory = \"./Directory/Of/CIFs/\"\n",
    "charge_column = \"_atom_site_charge\"\n",
    "output_csv = \"./example.csv\""
   ]
  },
  {
   "cell_type": "code",
   "execution_count": null,
   "id": "1847acbb",
   "metadata": {},
   "outputs": [],
   "source": [
    "def flux(Q,p):\n",
    "    \"\"\"\n",
    "    Take pressure (p) and charge (Q),\n",
    "    Return estimated charge-flux effect\n",
    "\n",
    "    Function was estimated by fitting simulations of a non-physicla point charge in RASPA. \n",
    "    If function estimates the effects to be below 0 (due to the way the data was fit), it will instead be return 0 instead!\n",
    "    \"\"\"\n",
    "    \n",
    "    c = np.array([-4.01479419e-01,  9.58680949e-01 , 2.02455722e-01, -3.25777707e-02,-1.44514943e-02 , 5.01944807e-04 , 3.12802362e-04,  1.12292432e-03,-2.00354705e-07  ,1.16669086e-11, -6.28647382e-01])\n",
    "    var_mat = np.array([Q,Q**2,Q**3,Q**4,Q**5,Q**6,Q**7,p,p**2,p**3,np.ones(len(Q))])\n",
    "    calc= np.matmul(c,var_mat)\n",
    "    fluxes = np.array([max(0,i) for i in calc])\n",
    "    return sum(fluxes)\n",
    "\n",
    "def fluxFromChargeList(clist, pressure):\n",
    "    Q = np.array(clist)\n",
    "    p = np.ones(len(Q)) * pressure\n",
    "    return flux(Q,p)\n",
    "\n",
    "def replaceTabs(text, spaces = \"   \"):\n",
    "    output = \"\"\n",
    "    for i in text.split('\\t'):\n",
    "        output += i\n",
    "        output += spaces\n",
    "    output=output[:-len(spaces)]\n",
    "    return output\n",
    "\n",
    "def getChargeListFromCif(cif_address):\n",
    "    CHARGE_COLUMN = f\"{charge_column}\\n\"\n",
    "    atom_charges = []\n",
    "    \n",
    "    f = open(cif_address, 'r')\n",
    "    data = f.read()\n",
    "    f.close()\n",
    "    \n",
    "    data = replaceTabs(data)\n",
    "    \n",
    "    if len(data.split(f'{CHARGE_COLUMN}'))  == 1:\n",
    "        return []\n",
    "    \n",
    "    cols_from_end = 1\n",
    "    block = data.split(f'{CHARGE_COLUMN}')[1]\n",
    "    lines = block.split('\\n')\n",
    "\n",
    "    for line in lines:\n",
    "        if line.strip() != \"\":\n",
    "            if line.strip()[0] == '_':\n",
    "                cols_from_end +=1 \n",
    "                print(line)\n",
    "            elif line.strip() != \"\" and len(line.split()) >= 4: \n",
    "                col_index = cols_from_end * -1\n",
    "                charge = line.strip().split()[col_index]\n",
    "                atom_charges.append(float(charge))\n",
    "\n",
    "    return atom_charges"
   ]
  },
  {
   "cell_type": "code",
   "execution_count": null,
   "id": "14e27659",
   "metadata": {},
   "outputs": [],
   "source": [
    "charges = {}"
   ]
  },
  {
   "cell_type": "code",
   "execution_count": null,
   "id": "8dd3fc2e",
   "metadata": {},
   "outputs": [],
   "source": [
    "cifs = list(listdir(directory))\n",
    "\n",
    "errored = []\n",
    "\n",
    "for cif in cifs:\n",
    "    try:\n",
    "        charges[cif] = getChargeListFromCif(directory+cif)\n",
    "    except:\n",
    "        errored.append(cif)\n",
    "print(len(errored))\n"
   ]
  },
  {
   "cell_type": "code",
   "execution_count": null,
   "id": "7a80d67b",
   "metadata": {},
   "outputs": [],
   "source": [
    "flux_descriptors = {'FILE':[], 'Flux40': [], 'Flux1000':[], 'Flux4000':[]}\n",
    "for cif in charges.keys():\n",
    "    phi40   = fluxFromChargeList(charges[cif],40)\n",
    "    phi1000 = fluxFromChargeList(charges[cif],1000)\n",
    "    phi4000 = fluxFromChargeList(charges[cif],4000)\n",
    "    flux_descriptors['FILE'].append(cif)\n",
    "    flux_descriptors['Flux40'].append(phi40)\n",
    "    flux_descriptors['Flux1000'].append(phi1000)\n",
    "    flux_descriptors['Flux4000'].append(phi4000)\n"
   ]
  },
  {
   "cell_type": "code",
   "execution_count": null,
   "id": "6f8a5954",
   "metadata": {},
   "outputs": [],
   "source": [
    "df = pd.DataFrame(flux_descriptors)"
   ]
  },
  {
   "cell_type": "code",
   "execution_count": null,
   "id": "d6ea0a7d",
   "metadata": {},
   "outputs": [],
   "source": [
    "df.to_csv(output_csv)"
   ]
  }
 ],
 "metadata": {
  "kernelspec": {
   "display_name": "Python 3 (ipykernel)",
   "language": "python",
   "name": "python3"
  },
  "language_info": {
   "codemirror_mode": {
    "name": "ipython",
    "version": 3
   },
   "file_extension": ".py",
   "mimetype": "text/x-python",
   "name": "python",
   "nbconvert_exporter": "python",
   "pygments_lexer": "ipython3",
   "version": "3.9.13"
  }
 },
 "nbformat": 4,
 "nbformat_minor": 5
}
